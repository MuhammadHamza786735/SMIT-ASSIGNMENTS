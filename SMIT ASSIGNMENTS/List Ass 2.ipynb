{
 "cells": [
  {
   "cell_type": "code",
   "execution_count": 1,
   "id": "8d4430c3-25c6-4815-8001-9bc9122b411e",
   "metadata": {},
   "outputs": [
    {
     "name": "stdin",
     "output_type": "stream",
     "text": [
      "Enter the length of the rectangle:  5\n",
      "Enter the width of the rectangle:  3\n"
     ]
    },
    {
     "name": "stdout",
     "output_type": "stream",
     "text": [
      "The area of the rectangle is: 15.0 square units\n"
     ]
    }
   ],
   "source": [
    "def calculate_rectangle_area():\n",
    "    # Get length and width from user\n",
    "    length = float(input(\"Enter the length of the rectangle: \"))\n",
    "    width = float(input(\"Enter the width of the rectangle: \"))\n",
    "\n",
    "    # Calculate area\n",
    "    area = length * width\n",
    "\n",
    "    # Display result\n",
    "    print(f\"The area of the rectangle is: {area} square units\")\n",
    "\n",
    "# Call the function\n",
    "calculate_rectangle_area()\n"
   ]
  },
  {
   "cell_type": "code",
   "execution_count": 3,
   "id": "ca632e90-f899-4555-8ccd-e266e916e8de",
   "metadata": {},
   "outputs": [
    {
     "name": "stdin",
     "output_type": "stream",
     "text": [
      "Enter the radius of the circle:  5\n"
     ]
    },
    {
     "name": "stdout",
     "output_type": "stream",
     "text": [
      "The circumference of the circle is: 31.41592653589793 units\n"
     ]
    }
   ],
   "source": [
    "import math\n",
    "\n",
    "def calculate_circumference():\n",
    "    # Get radius from user\n",
    "    radius = float(input(\"Enter the radius of the circle: \"))\n",
    "\n",
    "    # Calculate circumference\n",
    "    circumference = 2 * math.pi * radius\n",
    "\n",
    "    # Display result\n",
    "    print(f\"The circumference of the circle is: {circumference} units\")\n",
    "\n",
    "# Call the function\n",
    "calculate_circumference()\n"
   ]
  },
  {
   "cell_type": "code",
   "execution_count": 5,
   "id": "a0a0cec6-28b9-4b0a-8073-dd6f61c0853e",
   "metadata": {},
   "outputs": [
    {
     "name": "stdin",
     "output_type": "stream",
     "text": [
      "Enter the principal amount:  1000\n",
      "Enter the interest rate (in %):  5\n",
      "Enter the time period (in years):  2\n"
     ]
    },
    {
     "name": "stdout",
     "output_type": "stream",
     "text": [
      "The simple interest is: 100.0\n",
      "The total amount is: 1100.0\n"
     ]
    }
   ],
   "source": [
    "\n",
    "\n",
    "\n",
    "def calculate_simple_interest():\n",
    "    # Get Principal, Rate, and Time from user\n",
    "    principal = float(input(\"Enter the principal amount: \"))\n",
    "    rate = float(input(\"Enter the interest rate (in %): \"))\n",
    "    time = float(input(\"Enter the time period (in years): \"))\n",
    "\n",
    "    # Convert rate from % to decimal\n",
    "    rate = rate / 100\n",
    "\n",
    "    # Calculate simple interest\n",
    "    simple_interest = principal * rate * time\n",
    "\n",
    "    # Display result\n",
    "    print(f\"The simple interest is: {simple_interest}\")\n",
    "    print(f\"The total amount is: {principal + simple_interest}\")\n",
    "\n",
    "# Call the function\n",
    "calculate_simple_interest()\n"
   ]
  },
  {
   "cell_type": "code",
   "execution_count": 7,
   "id": "7203a937-5be4-43c3-b339-aabde5fcb36c",
   "metadata": {},
   "outputs": [
    {
     "name": "stdin",
     "output_type": "stream",
     "text": [
      "Enter the distance traveled (in km/mi):  100\n",
      "Enter the time taken (in hours/seconds):  2\n"
     ]
    },
    {
     "name": "stdout",
     "output_type": "stream",
     "text": [
      "The speed of the object is: 50.0 km/h or mi/s\n"
     ]
    }
   ],
   "source": [
    "def calculate_speed():\n",
    "    # Get Distance and Time from user\n",
    "    distance = float(input(\"Enter the distance traveled (in km/mi): \"))\n",
    "    time = float(input(\"Enter the time taken (in hours/seconds): \"))\n",
    "\n",
    "    # Calculate speed\n",
    "    speed = distance / time\n",
    "\n",
    "    # Display result\n",
    "    print(f\"The speed of the object is: {speed} km/h or mi/s\")\n",
    "\n",
    "# Call the function\n",
    "calculate_speed()\n",
    "\n"
   ]
  },
  {
   "cell_type": "code",
   "execution_count": 8,
   "id": "9f1676bf-6d7a-47c6-84c5-37e2fbfd365f",
   "metadata": {},
   "outputs": [
    {
     "name": "stdin",
     "output_type": "stream",
     "text": [
      "Enter your weight (in kilograms):  70\n",
      "Enter your height (in meters):  1.75\n"
     ]
    },
    {
     "name": "stdout",
     "output_type": "stream",
     "text": [
      "Your BMI is: 22.86\n",
      "You are normal weight.\n"
     ]
    }
   ],
   "source": [
    "def calculate_bmi():\n",
    "    # Get Weight and Height from user\n",
    "    weight = float(input(\"Enter your weight (in kilograms): \"))\n",
    "    height = float(input(\"Enter your height (in meters): \"))\n",
    "\n",
    "    # Calculate BMI\n",
    "    bmi = weight / (height ** 2)\n",
    "\n",
    "    # Display result\n",
    "    print(f\"Your BMI is: {bmi:.2f}\")\n",
    "\n",
    "    # Interpret BMI result\n",
    "    if bmi < 18.5:\n",
    "        print(\"You are underweight.\")\n",
    "    elif bmi < 25:\n",
    "        print(\"You are normal weight.\")\n",
    "    elif bmi < 30:\n",
    "        print(\"You are overweight.\")\n",
    "    else:\n",
    "        print(\"You are obese.\")\n",
    "\n",
    "# Call the function\n",
    "calculate_bmi()\n",
    "\n",
    "\n"
   ]
  },
  {
   "cell_type": "code",
   "execution_count": 9,
   "id": "2f231c11-4121-4a6e-8750-0beeaa6a693f",
   "metadata": {},
   "outputs": [
    {
     "name": "stdin",
     "output_type": "stream",
     "text": [
      "Enter the mass of the object (in kilograms):  10\n",
      "Enter the acceleration of the object (in meters/second²):  5\n"
     ]
    },
    {
     "name": "stdout",
     "output_type": "stream",
     "text": [
      "The force on the object is: 50.0 Newtons\n"
     ]
    }
   ],
   "source": [
    "def calculate_force():\n",
    "    # Get mass and acceleration from user\n",
    "    mass = float(input(\"Enter the mass of the object (in kilograms): \"))\n",
    "    acceleration = float(input(\"Enter the acceleration of the object (in meters/second²): \"))\n",
    "\n",
    "    # Calculate force\n",
    "    force = mass * acceleration\n",
    "\n",
    "    # Display result\n",
    "    print(f\"The force on the object is: {force} Newtons\")\n",
    "\n",
    "# Call the function\n",
    "calculate_force()\n"
   ]
  },
  {
   "cell_type": "code",
   "execution_count": 10,
   "id": "1f7a2d2d-7f5e-4126-8952-bb6a9f7fbd0c",
   "metadata": {},
   "outputs": [
    {
     "name": "stdin",
     "output_type": "stream",
     "text": [
      "Enter the principal amount:  1000\n",
      "Enter the annual interest rate (in %):  5\n",
      "Enter the number of times interest is compounded per year:  12\n",
      "Enter the time in years:  5\n"
     ]
    },
    {
     "name": "stdout",
     "output_type": "stream",
     "text": [
      "The total amount after 5 years is: 1283.36\n",
      "The compound interest is: 283.36\n"
     ]
    }
   ],
   "source": [
    "def calculate_compound_interest():\n",
    "    # Get inputs from user\n",
    "    principal = float(input(\"Enter the principal amount: \"))\n",
    "    rate = float(input(\"Enter the annual interest rate (in %): \"))\n",
    "    rate = rate / 100  # Convert rate to decimal\n",
    "    times_per_year = int(input(\"Enter the number of times interest is compounded per year: \"))\n",
    "    years = int(input(\"Enter the time in years: \"))\n",
    "\n",
    "    # Calculate compound interest\n",
    "    amount = principal * (1 + rate / times_per_year) ** (times_per_year * years)\n",
    "    interest = amount - principal\n",
    "\n",
    "    # Display results\n",
    "    print(f\"The total amount after {years} years is: {amount:.2f}\")\n",
    "    print(f\"The compound interest is: {interest:.2f}\")\n",
    "\n",
    "# Call the function\n",
    "calculate_compound_interest()\n"
   ]
  },
  {
   "cell_type": "code",
   "execution_count": null,
   "id": "da8d5708-b491-40bd-be13-f8174eac3d46",
   "metadata": {},
   "outputs": [],
   "source": []
  }
 ],
 "metadata": {
  "kernelspec": {
   "display_name": "Python 3 (ipykernel)",
   "language": "python",
   "name": "python3"
  },
  "language_info": {
   "codemirror_mode": {
    "name": "ipython",
    "version": 3
   },
   "file_extension": ".py",
   "mimetype": "text/x-python",
   "name": "python",
   "nbconvert_exporter": "python",
   "pygments_lexer": "ipython3",
   "version": "3.12.7"
  }
 },
 "nbformat": 4,
 "nbformat_minor": 5
}
