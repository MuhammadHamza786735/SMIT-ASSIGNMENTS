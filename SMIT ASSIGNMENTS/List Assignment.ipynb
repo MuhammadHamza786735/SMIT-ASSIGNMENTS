{
 "cells": [
  {
   "cell_type": "code",
   "execution_count": 2,
   "id": "15629d4a-26b3-4772-b6e9-9ffe002580a8",
   "metadata": {},
   "outputs": [
    {
     "name": "stdin",
     "output_type": "stream",
     "text": [
      "Enter a list (space-separated):  1 2 3 4 5 6\n"
     ]
    },
    {
     "name": "stdout",
     "output_type": "stream",
     "text": [
      "1\n",
      "3\n",
      "5\n"
     ]
    }
   ],
   "source": [
    "\n",
    "\n",
    "\n",
    "def print_alternate_elements():\n",
    "    # Get list from user\n",
    "    user_list = input(\"Enter a list (space-separated): \")\n",
    "    user_list = user_list.split()\n",
    "\n",
    "    # Print alternate elements\n",
    "    for i in range(0, len(user_list), 2):\n",
    "        print(user_list[i])\n",
    "\n",
    "print_alternate_elements()\n"
   ]
  },
  {
   "cell_type": "code",
   "execution_count": 3,
   "id": "70f8547c-2e88-4121-9f44-62aea4ff6d33",
   "metadata": {},
   "outputs": [
    {
     "name": "stdin",
     "output_type": "stream",
     "text": [
      "Enter a list (space-separated):   1 2 3 4 5\n"
     ]
    },
    {
     "name": "stdout",
     "output_type": "stream",
     "text": [
      "Reversed List: ['5', '4', '3', '2', '1']\n"
     ]
    }
   ],
   "source": [
    "def reverse_list():\n",
    "    # Get list from user\n",
    "    user_list = input(\"Enter a list (space-separated): \")\n",
    "    user_list = user_list.split()\n",
    "\n",
    "    # Reverse the list\n",
    "    reversed_list = []\n",
    "    for i in range(len(user_list) - 1, -1, -1):\n",
    "        reversed_list.append(user_list[i])\n",
    "\n",
    "    # Display the reversed list\n",
    "    print(\"Reversed List:\", reversed_list)\n",
    "\n",
    "reverse_list()\n"
   ]
  },
  {
   "cell_type": "code",
   "execution_count": 4,
   "id": "eed1ca75-6624-4c7a-b3b3-39b979d84cbb",
   "metadata": {},
   "outputs": [
    {
     "name": "stdin",
     "output_type": "stream",
     "text": [
      "Enter a list (space-separated):   12 45 7 23 56 89 34\n"
     ]
    },
    {
     "name": "stdout",
     "output_type": "stream",
     "text": [
      "Largest Number: 89\n"
     ]
    }
   ],
   "source": [
    "def find_largest_number():\n",
    "    # Get list from user\n",
    "    user_list = input(\"Enter a list (space-separated): \")\n",
    "    user_list = [int(x) for x in user_list.split()]\n",
    "\n",
    "    # Initialize largest number\n",
    "    largest = user_list[0]\n",
    "\n",
    "    # Find largest number\n",
    "    for num in user_list:\n",
    "        if num > largest:\n",
    "            largest = num\n",
    "\n",
    "    # Display largest number\n",
    "    print(\"Largest Number:\", largest)\n",
    "\n",
    "find_largest_number()\n"
   ]
  },
  {
   "cell_type": "code",
   "execution_count": 5,
   "id": "13fb2a4c-81a7-4250-9492-cd02af77d2b6",
   "metadata": {},
   "outputs": [
    {
     "name": "stdin",
     "output_type": "stream",
     "text": [
      "Enter a list (space-separated):  1 2 3 4 5\n"
     ]
    },
    {
     "name": "stdout",
     "output_type": "stream",
     "text": [
      "Rotated List: ['5', '1', '2', '3', '4']\n"
     ]
    }
   ],
   "source": [
    "def rotate_list():\n",
    "    # Get list from user\n",
    "    user_list = input(\"Enter a list (space-separated): \")\n",
    "    user_list = user_list.split()\n",
    "\n",
    "    # Rotate the list\n",
    "    rotated_list = [user_list[-1]] + user_list[:-1]\n",
    "\n",
    "    # Display the rotated list\n",
    "    print(\"Rotated List:\", rotated_list)\n",
    "\n",
    "rotate_list()\n"
   ]
  },
  {
   "cell_type": "code",
   "execution_count": 6,
   "id": "ed9c43d3-54aa-4682-88ad-9b2f0bdafe71",
   "metadata": {},
   "outputs": [
    {
     "name": "stdin",
     "output_type": "stream",
     "text": [
      "Enter a string:  Hello world, this is a test\n",
      "Enter a word to delete:  world\n"
     ]
    },
    {
     "name": "stdout",
     "output_type": "stream",
     "text": [
      "Updated String: Hello , this is a test\n"
     ]
    }
   ],
   "source": [
    "def delete_word():\n",
    "    # Get string from user\n",
    "    user_string = input(\"Enter a string: \")\n",
    "\n",
    "    # Get word to delete from user\n",
    "    word_to_delete = input(\"Enter a word to delete: \")\n",
    "\n",
    "    # Delete the word from the string\n",
    "    deleted_string = user_string.replace(word_to_delete, \"\")\n",
    "\n",
    "    # Display the updated string\n",
    "    print(\"Updated String:\", deleted_string)\n",
    "\n",
    "delete_word()\n"
   ]
  },
  {
   "cell_type": "code",
   "execution_count": 10,
   "id": "e567e417-3e90-4c63-b003-614e23e19b2b",
   "metadata": {},
   "outputs": [
    {
     "name": "stdin",
     "output_type": "stream",
     "text": [
      "Enter a date (mm/dd/yyyy):  10/26/2006\n"
     ]
    },
    {
     "name": "stdout",
     "output_type": "stream",
     "text": [
      "Formatted Date: October 26, 2006\n"
     ]
    }
   ],
   "source": [
    "from datetime import datetime\n",
    "\n",
    "def format_date():\n",
    "    # Get date string from user\n",
    "    date_string = input(\"Enter a date (mm/dd/yyyy): \")\n",
    "\n",
    "    # Parse date string into datetime object\n",
    "    date_object = datetime.strptime(date_string, \"%m/%d/%Y\")\n",
    "\n",
    "    # Format datetime object into desired output\n",
    "    formatted_date = date_object.strftime(\"%B %d, %Y\")\n",
    "\n",
    "    # Display formatted date\n",
    "    print(\"Formatted Date:\", formatted_date)\n",
    "\n",
    "format_date()\n"
   ]
  },
  {
   "cell_type": "code",
   "execution_count": 12,
   "id": "259ca409-2bb6-4894-ad70-4b425eb4ae07",
   "metadata": {},
   "outputs": [
    {
     "name": "stdin",
     "output_type": "stream",
     "text": [
      "Enter a sentence:  stop and smell the roses.\n"
     ]
    },
    {
     "name": "stdout",
     "output_type": "stream",
     "text": [
      "Capitalized String: Stop And Smell The Roses.\n"
     ]
    }
   ],
   "source": [
    "def capitalize_words():\n",
    "    # Get string from user\n",
    "    user_string = input(\"Enter a sentence: \")\n",
    "\n",
    "    # Capitalize each word\n",
    "    capitalized_string = user_string.title()\n",
    "\n",
    "    # Display capitalized string\n",
    "    print(\"Capitalized String:\", capitalized_string)\n",
    "\n",
    "capitalize_words()\n"
   ]
  },
  {
   "cell_type": "code",
   "execution_count": null,
   "id": "9e436a74-2044-4e47-992a-67c2d0a5a1e2",
   "metadata": {},
   "outputs": [],
   "source": []
  }
 ],
 "metadata": {
  "kernelspec": {
   "display_name": "Python 3 (ipykernel)",
   "language": "python",
   "name": "python3"
  },
  "language_info": {
   "codemirror_mode": {
    "name": "ipython",
    "version": 3
   },
   "file_extension": ".py",
   "mimetype": "text/x-python",
   "name": "python",
   "nbconvert_exporter": "python",
   "pygments_lexer": "ipython3",
   "version": "3.12.7"
  }
 },
 "nbformat": 4,
 "nbformat_minor": 5
}
