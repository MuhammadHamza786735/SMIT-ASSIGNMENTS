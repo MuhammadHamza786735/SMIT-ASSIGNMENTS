{
 "cells": [
  {
   "cell_type": "code",
   "execution_count": 1,
   "id": "f9de2228-d70e-4c02-ae18-c1eb30047b33",
   "metadata": {},
   "outputs": [
    {
     "name": "stdin",
     "output_type": "stream",
     "text": [
      "Enter a list (space-separated):  1 2 3 4 5\n"
     ]
    },
    {
     "name": "stdout",
     "output_type": "stream",
     "text": [
      "Reversed List: ['5', '4', '3', '2', '1']\n"
     ]
    }
   ],
   "source": [
    "def reverse_list():\n",
    "    # Get list from user\n",
    "    user_list = input(\"Enter a list (space-separated): \")\n",
    "    user_list = user_list.split()\n",
    "\n",
    "    # Reverse the list\n",
    "    reversed_list = []\n",
    "    for i in range(len(user_list) - 1, -1, -1):\n",
    "        reversed_list.append(user_list[i])\n",
    "\n",
    "    # Display the reversed list\n",
    "    print(\"Reversed List:\", reversed_list)\n",
    "\n",
    "reverse_list()\n"
   ]
  },
  {
   "cell_type": "code",
   "execution_count": 2,
   "id": "2d11b79b-a778-47d5-9890-ff7ed010b21c",
   "metadata": {},
   "outputs": [
    {
     "name": "stdin",
     "output_type": "stream",
     "text": [
      "Enter a list (space-separated):  1 2 3 4 5\n"
     ]
    },
    {
     "name": "stdout",
     "output_type": "stream",
     "text": [
      "Reversed List: ['5', '4', '3', '2', '1']\n"
     ]
    }
   ],
   "source": [
    "def reverse_list():\n",
    "    # Get list from user\n",
    "    user_list = input(\"Enter a list (space-separated): \")\n",
    "    user_list = user_list.split()\n",
    "\n",
    "    # Reverse the list\n",
    "    reversed_list = []\n",
    "    for i in range(len(user_list) - 1, -1, -1):\n",
    "        reversed_list.append(user_list[i])\n",
    "\n",
    "    # Display reversed list\n",
    "    print(\"Reversed List:\", reversed_list)\n",
    "\n",
    "reverse_list()\n"
   ]
  },
  {
   "cell_type": "code",
   "execution_count": 5,
   "id": "b7885cff-8faf-409d-823e-8ca8bb34ac21",
   "metadata": {},
   "outputs": [
    {
     "name": "stdin",
     "output_type": "stream",
     "text": [
      "Enter a list (space-separated):  12 45 7 23 56 89 34\n"
     ]
    },
    {
     "name": "stdout",
     "output_type": "stream",
     "text": [
      "Largest Number: 89\n"
     ]
    }
   ],
   "source": [
    "def find_largest_number():\n",
    "    # Get list from user\n",
    "    user_list = input(\"Enter a list (space-separated): \")\n",
    "    user_list = [int(x) for x in user_list.split()]\n",
    "\n",
    "    # Initialize largest number\n",
    "    largest = user_list[0]\n",
    "\n",
    "    # Find largest number\n",
    "    for num in user_list:\n",
    "        if num > largest:\n",
    "            largest = num\n",
    "\n",
    "    # Display largest number\n",
    "    print(\"Largest Number:\", largest)\n",
    "\n",
    "find_largest_number()\n"
   ]
  },
  {
   "cell_type": "code",
   "execution_count": 6,
   "id": "8d3acb0b-15f7-4822-8824-b33b1e3445e2",
   "metadata": {},
   "outputs": [
    {
     "name": "stdin",
     "output_type": "stream",
     "text": [
      "Enter a list (space-separated):  1 2 3 4 5\n"
     ]
    },
    {
     "name": "stdout",
     "output_type": "stream",
     "text": [
      "Rotated List: ['5', '1', '2', '3', '4']\n"
     ]
    }
   ],
   "source": [
    "def rotate_list():\n",
    "    # Get list from user\n",
    "    user_list = input(\"Enter a list (space-separated): \")\n",
    "    user_list = user_list.split()\n",
    "\n",
    "    # Rotate the list\n",
    "    rotated_list = [user_list[-1]] + user_list[:-1]\n",
    "\n",
    "    # Display rotated list\n",
    "    print(\"Rotated List:\", rotated_list)\n",
    "\n",
    "rotate_list()\n"
   ]
  },
  {
   "cell_type": "code",
   "execution_count": 7,
   "id": "64734bce-bf55-4caa-be7e-2e17d259bd4c",
   "metadata": {},
   "outputs": [
    {
     "name": "stdin",
     "output_type": "stream",
     "text": [
      "Enter a string:  Hello world, this is a test world\n",
      "Enter a word to delete:  world\n"
     ]
    },
    {
     "name": "stdout",
     "output_type": "stream",
     "text": [
      "Updated String: Hello , this is a test\n"
     ]
    }
   ],
   "source": [
    "def delete_word():\n",
    "    # Get string from user\n",
    "    user_string = input(\"Enter a string: \")\n",
    "\n",
    "    # Get word to delete from user\n",
    "    word_to_delete = input(\"Enter a word to delete: \")\n",
    "\n",
    "    # Delete the word from the string\n",
    "    deleted_string = user_string.replace(word_to_delete, \"\")\n",
    "\n",
    "    # Remove extra spaces\n",
    "    deleted_string = \" \".join(deleted_string.split())\n",
    "\n",
    "    # Display updated string\n",
    "    print(\"Updated String:\", deleted_string)\n",
    "\n",
    "delete_word()\n"
   ]
  },
  {
   "cell_type": "code",
   "execution_count": 8,
   "id": "6bf4fe76-fd25-4c0f-8b13-7a6809040274",
   "metadata": {},
   "outputs": [
    {
     "name": "stdin",
     "output_type": "stream",
     "text": [
      "Enter a date (mm/dd/yyyy):  10/26/2004\n"
     ]
    },
    {
     "name": "stdout",
     "output_type": "stream",
     "text": [
      "Formatted Date: October 26, 2004\n"
     ]
    }
   ],
   "source": [
    "from datetime import datetime\n",
    "\n",
    "def format_date():\n",
    "    # Get date string from user\n",
    "    date_string = input(\"Enter a date (mm/dd/yyyy): \")\n",
    "\n",
    "    # Parse date string into datetime object\n",
    "    date_object = datetime.strptime(date_string, \"%m/%d/%Y\")\n",
    "\n",
    "    # Format datetime object into desired output\n",
    "    formatted_date = date_object.strftime(\"%B %d, %Y\")\n",
    "\n",
    "    # Display formatted date\n",
    "    print(\"Formatted Date:\", formatted_date)\n",
    "\n",
    "format_date()\n"
   ]
  },
  {
   "cell_type": "code",
   "execution_count": 9,
   "id": "a069c28e-1244-476f-9508-b2ad1e6f5af7",
   "metadata": {},
   "outputs": [
    {
     "name": "stdin",
     "output_type": "stream",
     "text": [
      "Enter a sentence:  stop and smell the roses.\n"
     ]
    },
    {
     "name": "stdout",
     "output_type": "stream",
     "text": [
      "Capitalized String: Stop And Smell The Roses.\n"
     ]
    }
   ],
   "source": [
    "def capitalize_words():\n",
    "    # Get string from user\n",
    "    user_string = input(\"Enter a sentence: \")\n",
    "\n",
    "    # Capitalize each word\n",
    "    capitalized_string = user_string.title()\n",
    "\n",
    "    # Display capitalized string\n",
    "    print(\"Capitalized String:\", capitalized_string)\n",
    "\n",
    "capitalize_words()\n"
   ]
  },
  {
   "cell_type": "code",
   "execution_count": 10,
   "id": "4ce835e5-b568-4851-b43a-abb7cee63c6c",
   "metadata": {},
   "outputs": [
    {
     "name": "stdin",
     "output_type": "stream",
     "text": [
      "Enter number of rows (m):  3\n",
      "Enter number of columns (n):  3\n",
      "Enter element [1][1]:  12\n",
      "Enter element [1][2]:  10\n",
      "Enter element [1][3]:  10\n",
      "Enter element [2][1]:  15\n",
      "Enter element [2][2]:  8\n",
      "Enter element [2][3]:  8\n",
      "Enter element [3][1]:  20\n",
      "Enter element [3][2]:  20\n",
      "Enter element [3][3]:  23\n"
     ]
    },
    {
     "name": "stdout",
     "output_type": "stream",
     "text": [
      "Sum of row 1 = 32\n",
      "Sum of row 2 = 31\n",
      "Sum of row 3 = 63\n"
     ]
    }
   ],
   "source": [
    "def calculate_row_sums():\n",
    "    # Get matrix dimensions from user\n",
    "    m = int(input(\"Enter number of rows (m): \"))\n",
    "    n = int(input(\"Enter number of columns (n): \"))\n",
    "\n",
    "    # Initialize matrix\n",
    "    matrix = []\n",
    "\n",
    "    # Get matrix elements from user\n",
    "    for i in range(m):\n",
    "        row = []\n",
    "        for j in range(n):\n",
    "            element = int(input(f\"Enter element [{i+1}][{j+1}]: \"))\n",
    "            row.append(element)\n",
    "        matrix.append(row)\n",
    "\n",
    "    # Calculate and display row sums\n",
    "    for i in range(m):\n",
    "        row_sum = sum(matrix[i])\n",
    "        print(f\"Sum of row {i+1} = {row_sum}\")\n",
    "\n",
    "calculate_row_sums()\n"
   ]
  },
  {
   "cell_type": "code",
   "execution_count": 11,
   "id": "ecde28bc-99da-4e5b-adaa-ab7141756a25",
   "metadata": {},
   "outputs": [
    {
     "name": "stdin",
     "output_type": "stream",
     "text": [
      "Enter number of rows (n):  2\n",
      "Enter number of columns (m):  2\n"
     ]
    },
    {
     "name": "stdout",
     "output_type": "stream",
     "text": [
      "Enter elements of Matrix 1:\n"
     ]
    },
    {
     "name": "stdin",
     "output_type": "stream",
     "text": [
      "Enter element [1][1]:  1\n",
      "Enter element [1][2]:  2\n",
      "Enter element [2][1]:  3\n",
      "Enter element [2][2]:  4\n"
     ]
    },
    {
     "name": "stdout",
     "output_type": "stream",
     "text": [
      "Enter elements of Matrix 2:\n"
     ]
    },
    {
     "name": "stdin",
     "output_type": "stream",
     "text": [
      "Enter element [1][1]:  5\n",
      "Enter element [1][2]:  6\n",
      "Enter element [2][1]:  7\n",
      "Enter element [2][2]:  8\n"
     ]
    },
    {
     "name": "stdout",
     "output_type": "stream",
     "text": [
      "Matrix 1:\n",
      "[1, 2]\n",
      "[3, 4]\n",
      "Matrix 2:\n",
      "[5, 6]\n",
      "[7, 8]\n",
      "Result Matrix:\n",
      "[6, 8]\n",
      "[10, 12]\n"
     ]
    }
   ],
   "source": [
    "def add_matrices():\n",
    "    # Get matrix dimensions from user\n",
    "    n = int(input(\"Enter number of rows (n): \"))\n",
    "    m = int(input(\"Enter number of columns (m): \"))\n",
    "\n",
    "    # Initialize matrices\n",
    "    matrix1 = []\n",
    "    matrix2 = []\n",
    "\n",
    "    # Get matrix elements from user\n",
    "    print(\"Enter elements of Matrix 1:\")\n",
    "    for i in range(n):\n",
    "        row = []\n",
    "        for j in range(m):\n",
    "            element = int(input(f\"Enter element [{i+1}][{j+1}]: \"))\n",
    "            row.append(element)\n",
    "        matrix1.append(row)\n",
    "\n",
    "    print(\"Enter elements of Matrix 2:\")\n",
    "    for i in range(n):\n",
    "        row = []\n",
    "        for j in range(m):\n",
    "            element = int(input(f\"Enter element [{i+1}][{j+1}]: \"))\n",
    "            row.append(element)\n",
    "        matrix2.append(row)\n",
    "\n",
    "    # Add matrices\n",
    "    result_matrix = []\n",
    "    for i in range(n):\n",
    "        row = []\n",
    "        for j in range(m):\n",
    "            row.append(matrix1[i][j] + matrix2[i][j])\n",
    "        result_matrix.append(row)\n",
    "\n",
    "    # Display matrices and result\n",
    "    print(\"Matrix 1:\")\n",
    "    for row in matrix1:\n",
    "        print(row)\n",
    "    print(\"Matrix 2:\")\n",
    "    for row in matrix2:\n",
    "        print(row)\n",
    "    print(\"Result Matrix:\")\n",
    "    for row in result_matrix:\n",
    "        print(row)\n",
    "\n",
    "add_matrices()\n",
    "\n",
    "\n"
   ]
  },
  {
   "cell_type": "code",
   "execution_count": 12,
   "id": "68c3eefd-6feb-4889-974c-c91faf657303",
   "metadata": {},
   "outputs": [
    {
     "name": "stdin",
     "output_type": "stream",
     "text": [
      "Enter number of rows in Matrix 1:  2\n",
      "Enter number of columns in Matrix 1:  3\n",
      "Enter number of rows in Matrix 2:  3\n",
      "Enter number of columns in Matrix 2:  2\n"
     ]
    },
    {
     "name": "stdout",
     "output_type": "stream",
     "text": [
      "Enter elements of Matrix 1:\n"
     ]
    },
    {
     "name": "stdin",
     "output_type": "stream",
     "text": [
      "Enter element [1][1]:  1\n",
      "Enter element [1][2]:  2\n",
      "Enter element [1][3]:  3\n",
      "Enter element [2][1]:  4\n",
      "Enter element [2][2]:  5\n",
      "Enter element [2][3]:  6\n"
     ]
    },
    {
     "name": "stdout",
     "output_type": "stream",
     "text": [
      "Enter elements of Matrix 2:\n"
     ]
    },
    {
     "name": "stdin",
     "output_type": "stream",
     "text": [
      "Enter element [1][1]:  7\n",
      "Enter element [1][2]:  8\n",
      "Enter element [2][1]:  9\n",
      "Enter element [2][2]:  10\n",
      "Enter element [3][1]:  11\n",
      "Enter element [3][2]:  12\n"
     ]
    },
    {
     "name": "stdout",
     "output_type": "stream",
     "text": [
      "Matrix 1:\n",
      "[1, 2, 3]\n",
      "[4, 5, 6]\n",
      "Matrix 2:\n",
      "[7, 8]\n",
      "[9, 10]\n",
      "[11, 12]\n",
      "Result Matrix:\n",
      "[58, 64]\n",
      "[139, 154]\n"
     ]
    }
   ],
   "source": [
    "def multiply_matrices():\n",
    "    # Get dimensions of matrices from user\n",
    "    m1_rows = int(input(\"Enter number of rows in Matrix 1: \"))\n",
    "    m1_cols = int(input(\"Enter number of columns in Matrix 1: \"))\n",
    "    m2_rows = int(input(\"Enter number of rows in Matrix 2: \"))\n",
    "    m2_cols = int(input(\"Enter number of columns in Matrix 2: \"))\n",
    "\n",
    "    # Check if matrices can be multiplied\n",
    "    if m1_cols != m2_rows:\n",
    "        print(\"Matrices cannot be multiplied.\")\n",
    "        return\n",
    "\n",
    "    # Initialize matrices\n",
    "    matrix1 = []\n",
    "    matrix2 = []\n",
    "\n",
    "    # Get matrix elements from user\n",
    "    print(\"Enter elements of Matrix 1:\")\n",
    "    for i in range(m1_rows):\n",
    "        row = []\n",
    "        for j in range(m1_cols):\n",
    "            element = int(input(f\"Enter element [{i+1}][{j+1}]: \"))\n",
    "            row.append(element)\n",
    "        matrix1.append(row)\n",
    "\n",
    "    print(\"Enter elements of Matrix 2:\")\n",
    "    for i in range(m2_rows):\n",
    "        row = []\n",
    "        for j in range(m2_cols):\n",
    "            element = int(input(f\"Enter element [{i+1}][{j+1}]: \"))\n",
    "            row.append(element)\n",
    "        matrix2.append(row)\n",
    "\n",
    "    # Multiply matrices\n",
    "    result_matrix = [[0 for _ in range(m2_cols)] for _ in range(m1_rows)]\n",
    "    for i in range(m1_rows):\n",
    "        for j in range(m2_cols):\n",
    "            for k in range(m1_cols):\n",
    "                result_matrix[i][j] += matrix1[i][k] * matrix2[k][j]\n",
    "\n",
    "    # Display matrices and result\n",
    "    print(\"Matrix 1:\")\n",
    "    for row in matrix1:\n",
    "        print(row)\n",
    "    print(\"Matrix 2:\")\n",
    "    for row in matrix2:\n",
    "        print(row)\n",
    "    print(\"Result Matrix:\")\n",
    "    for row in result_matrix:\n",
    "        print(row)\n",
    "\n",
    "multiply_matrices()\n",
    "\n"
   ]
  },
  {
   "cell_type": "code",
   "execution_count": null,
   "id": "9f657887-cfab-42db-ad3c-9f8491179761",
   "metadata": {},
   "outputs": [],
   "source": []
  }
 ],
 "metadata": {
  "kernelspec": {
   "display_name": "Python 3 (ipykernel)",
   "language": "python",
   "name": "python3"
  },
  "language_info": {
   "codemirror_mode": {
    "name": "ipython",
    "version": 3
   },
   "file_extension": ".py",
   "mimetype": "text/x-python",
   "name": "python",
   "nbconvert_exporter": "python",
   "pygments_lexer": "ipython3",
   "version": "3.12.7"
  }
 },
 "nbformat": 4,
 "nbformat_minor": 5
}
