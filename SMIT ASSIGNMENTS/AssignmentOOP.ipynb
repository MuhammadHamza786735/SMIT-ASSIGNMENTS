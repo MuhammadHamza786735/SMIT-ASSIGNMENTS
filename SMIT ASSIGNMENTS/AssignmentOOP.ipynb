{
 "cells": [
  {
   "cell_type": "code",
   "execution_count": 1,
   "id": "61de530e-7d2e-428e-a986-c802d6350f37",
   "metadata": {},
   "outputs": [
    {
     "name": "stdout",
     "output_type": "stream",
     "text": [
      "Person 1 Details:\n",
      "Name: John Doe\n",
      "Age: 30\n",
      "Country: USA\n",
      "\n",
      "Person 2 Details:\n",
      "Name: Jane Smith\n",
      "Age: 25\n",
      "Country: Canada\n"
     ]
    }
   ],
   "source": [
    "# Define the Person class\n",
    "class Person:\n",
    "    def __init__(self, name, age, country):\n",
    "        self.name = name\n",
    "        self.age = age\n",
    "        self.country = country\n",
    "\n",
    "    def display_details(self):\n",
    "        print(f\"Name: {self.name}\")\n",
    "        print(f\"Age: {self.age}\")\n",
    "        print(f\"Country: {self.country}\")\n",
    "\n",
    "# Create two instances of the Person class\n",
    "person1 = Person(\"John Doe\", 30, \"USA\")\n",
    "person2 = Person(\"Jane Smith\", 25, \"Canada\")\n",
    "\n",
    "# Display their details\n",
    "print(\"Person 1 Details:\")\n",
    "person1.display_details()\n",
    "\n",
    "print(\"\\nPerson 2 Details:\")\n",
    "person2.display_details()\n"
   ]
  },
  {
   "cell_type": "code",
   "execution_count": 2,
   "id": "68294957-b009-4b74-a709-ee7fa50204f9",
   "metadata": {},
   "outputs": [
    {
     "name": "stdout",
     "output_type": "stream",
     "text": [
      "Rectangle Width: 10, Height: 5\n",
      "Area: 50\n",
      "Perimeter: 30\n"
     ]
    }
   ],
   "source": [
    "# Define the Rectangle class\n",
    "class Rectangle:\n",
    "    def __init__(self, width, height):\n",
    "        self.width = width\n",
    "        self.height = height\n",
    "\n",
    "    def calculate_area(self):\n",
    "        return self.width * self.height\n",
    "\n",
    "    def calculate_perimeter(self):\n",
    "        return 2 * (self.width + self.height)\n",
    "\n",
    "# Create an instance of the Rectangle class\n",
    "rectangle = Rectangle(10, 5)\n",
    "\n",
    "# Calculate and print the area and perimeter\n",
    "print(f\"Rectangle Width: {rectangle.width}, Height: {rectangle.height}\")\n",
    "print(f\"Area: {rectangle.calculate_area()}\")\n",
    "print(f\"Perimeter: {rectangle.calculate_perimeter()}\")\n"
   ]
  },
  {
   "cell_type": "code",
   "execution_count": 3,
   "id": "8af41d12-5a73-4273-bd7f-cb1f04808b51",
   "metadata": {},
   "outputs": [
    {
     "name": "stdout",
     "output_type": "stream",
     "text": [
      "Make: Toyota\n",
      "Model: Camry\n",
      "Year: 2020\n",
      "Doors: 4\n"
     ]
    }
   ],
   "source": [
    "# Define the Vehicle class\n",
    "class Vehicle:\n",
    "    def __init__(self, make, model, year):\n",
    "        self.make = make\n",
    "        self.model = model\n",
    "        self.year = year\n",
    "\n",
    "    def display_details(self):\n",
    "        print(f\"Make: {self.make}\")\n",
    "        print(f\"Model: {self.model}\")\n",
    "        print(f\"Year: {self.year}\")\n",
    "\n",
    "# Define the Car subclass\n",
    "class Car(Vehicle):\n",
    "    def __init__(self, make, model, year, doors):\n",
    "        super().__init__(make, model, year)\n",
    "        self.doors = doors\n",
    "\n",
    "    def display_details(self):\n",
    "        super().display_details()\n",
    "        print(f\"Doors: {self.doors}\")\n",
    "\n",
    "# Create an instance of the Car class\n",
    "car = Car(\"Toyota\", \"Camry\", 2020, 4)\n",
    "\n",
    "# Display the car's details\n",
    "car.display_details()\n",
    "\n"
   ]
  },
  {
   "cell_type": "code",
   "execution_count": 5,
   "id": "b4ab0267-f896-45b5-b455-5758fe461b40",
   "metadata": {},
   "outputs": [
    {
     "name": "stdout",
     "output_type": "stream",
     "text": [
      "Deposited $500.00. New balance: $1500.00\n",
      "Withdrew $200.00. New balance: $1300.00\n",
      "Deposited $1000.00. New balance: $1500.00\n",
      "Withdrew $750.00. New balance: $750.00\n"
     ]
    }
   ],
   "source": [
    "# Define the BankAccount class\n",
    "class BankAccount:\n",
    "    def __init__(self, account_number, initial_balance=0):\n",
    "        self.account_number = account_number\n",
    "        self.balance = initial_balance\n",
    "\n",
    "    def deposit(self, amount):\n",
    "        if amount > 0:\n",
    "            self.balance += amount\n",
    "            print(f\"Deposited ${amount:.2f}. New balance: ${self.balance:.2f}\")\n",
    "        else:\n",
    "            print(\"Invalid deposit amount.\")\n",
    "\n",
    "    def withdraw(self, amount):\n",
    "        if 0 < amount <= self.balance:\n",
    "            self.balance -= amount\n",
    "            print(f\"Withdrew ${amount:.2f}. New balance: ${self.balance:.2f}\")\n",
    "        elif amount <= 0:\n",
    "            print(\"Invalid withdrawal amount.\")\n",
    "        else:\n",
    "            print(\"Insufficient funds.\")\n",
    "\n",
    "# Create instances of the BankAccount class\n",
    "account1 = BankAccount(\"123456789\", 1000)\n",
    "account2 = BankAccount(\"987654321\", 500)\n",
    "\n",
    "# Deposit and withdraw money\n",
    "account1.deposit(500)\n",
    "account1.withdraw(200)\n",
    "\n",
    "account2.deposit(1000)\n",
    "account2.withdraw(750)\n",
    "\n",
    "\n",
    "\n",
    "\n"
   ]
  },
  {
   "cell_type": "code",
   "execution_count": 7,
   "id": "8d5a4b8c-2559-4fee-ba5a-2586bd8d0548",
   "metadata": {},
   "outputs": [
    {
     "name": "stdout",
     "output_type": "stream",
     "text": [
      "Circle Area: 78.54\n",
      "Triangle Area: 12.00\n"
     ]
    }
   ],
   "source": [
    "import math\n",
    "\n",
    "# Define the Shape class\n",
    "class Shape:\n",
    "    def calculate_area(self):\n",
    "        pass\n",
    "\n",
    "# Define the Circle subclass\n",
    "class Circle(Shape):\n",
    "    def __init__(self, radius):\n",
    "        self.radius = radius\n",
    "\n",
    "    def calculate_area(self):\n",
    "        return math.pi * (self.radius ** 2)\n",
    "\n",
    "# Define the Triangle subclass\n",
    "class Triangle(Shape):\n",
    "    def __init__(self, base, height):\n",
    "        self.base = base\n",
    "        self.height = height\n",
    "\n",
    "    def calculate_area(self):\n",
    "        return 0.5 * self.base * self.height\n",
    "\n",
    "# Create instances of the Circle and Triangle classes\n",
    "circle = Circle(5)\n",
    "triangle = Triangle(4, 6)\n",
    "\n",
    "# Calculate and print the areas\n",
    "print(f\"Circle Area: {circle.calculate_area():.2f}\")\n",
    "print(f\"Triangle Area: {triangle.calculate_area():.2f}\")\n"
   ]
  },
  {
   "cell_type": "code",
   "execution_count": 8,
   "id": "40346533-ec4e-4f64-b96a-6732ab228bc7",
   "metadata": {},
   "outputs": [
    {
     "name": "stdout",
     "output_type": "stream",
     "text": [
      "John Doe's Annual Salary: $66000.00\n",
      "Jane Smith's Annual Salary: $79200.00\n"
     ]
    }
   ],
   "source": [
    "# Define the Employee class\n",
    "class Employee:\n",
    "    def __init__(self, name, salary):\n",
    "        self.name = name\n",
    "        self.salary = salary\n",
    "\n",
    "    def calculate_annual_salary(self):\n",
    "        return self.salary * 12\n",
    "\n",
    "# Define the Manager subclass\n",
    "class Manager(Employee):\n",
    "    def __init__(self, name, salary, department):\n",
    "        super().__init__(name, salary)\n",
    "        self.department = department\n",
    "\n",
    "    def calculate_annual_salary(self):\n",
    "        bonus = 0.1 * self.salary * 12  # 10% bonus for managers\n",
    "        return super().calculate_annual_salary() + bonus\n",
    "\n",
    "# Create instances of the Manager class\n",
    "manager1 = Manager(\"John Doe\", 5000, \"Sales\")\n",
    "manager2 = Manager(\"Jane Smith\", 6000, \"Marketing\")\n",
    "\n",
    "# Calculate and print the annual salaries\n",
    "print(f\"{manager1.name}'s Annual Salary: ${manager1.calculate_annual_salary():.2f}\")\n",
    "print(f\"{manager2.name}'s Annual Salary: ${manager2.calculate_annual_salary():.2f}\")\n"
   ]
  },
  {
   "cell_type": "code",
   "execution_count": 9,
   "id": "73daae5f-bed3-4f34-9b56-825d9dffd18c",
   "metadata": {},
   "outputs": [
    {
     "name": "stdout",
     "output_type": "stream",
     "text": [
      "Title: Python Programming\n",
      "Author: John Smith\n",
      "Publication Year: 2020\n",
      "Price: $19.99\n"
     ]
    }
   ],
   "source": [
    "# Define the Book class\n",
    "class Book:\n",
    "    def __init__(self, title, author, publication_year):\n",
    "        self.title = title\n",
    "        self.author = author\n",
    "        self.publication_year = publication_year\n",
    "\n",
    "    def display_details(self):\n",
    "        print(f\"Title: {self.title}\")\n",
    "        print(f\"Author: {self.author}\")\n",
    "        print(f\"Publication Year: {self.publication_year}\")\n",
    "\n",
    "# Define the Ebook subclass\n",
    "class Ebook(Book):\n",
    "    def __init__(self, title, author, publication_year, price):\n",
    "        super().__init__(title, author, publication_year)\n",
    "        self.price = price\n",
    "\n",
    "    def display_details(self):\n",
    "        super().display_details()\n",
    "        print(f\"Price: ${self.price:.2f}\")\n",
    "\n",
    "# Create an instance of the Ebook class\n",
    "ebook = Ebook(\"Python Programming\", \"John Smith\", 2020, 19.99)\n",
    "\n",
    "# Display the ebook's details\n",
    "ebook.display_details()\n"
   ]
  },
  {
   "cell_type": "code",
   "execution_count": null,
   "id": "7eb2ac8e-5a20-4f0f-aaab-5400a1a28abd",
   "metadata": {},
   "outputs": [],
   "source": []
  }
 ],
 "metadata": {
  "kernelspec": {
   "display_name": "Python 3 (ipykernel)",
   "language": "python",
   "name": "python3"
  },
  "language_info": {
   "codemirror_mode": {
    "name": "ipython",
    "version": 3
   },
   "file_extension": ".py",
   "mimetype": "text/x-python",
   "name": "python",
   "nbconvert_exporter": "python",
   "pygments_lexer": "ipython3",
   "version": "3.12.7"
  }
 },
 "nbformat": 4,
 "nbformat_minor": 5
}
