{
 "cells": [
  {
   "cell_type": "code",
   "execution_count": 1,
   "id": "c2cadd20-db36-45e1-9ef5-1dc5ff857d65",
   "metadata": {},
   "outputs": [
    {
     "name": "stdout",
     "output_type": "stream",
     "text": [
      "2002,2009,2016,2023,2037,2044,2051,2058,2072,2079,2086,2093,2107,2114,2121,2128,2142,2149,2156,2163,2177,2184,2191,2198,2212,2219,2226,2233,2247,2254,2261,2268,2282,2289,2296,2303,2317,2324,2331,2338,2352,2359,2366,2373,2387,2394,2401,2408,2422,2429,2436,2443,2457,2464,2471,2478,2492,2499,2506,2513,2527,2534,2541,2548,2562,2569,2576,2583,2597,2604,2611,2618,2632,2639,2646,2653,2667,2674,2681,2688,2702,2709,2716,2723,2737,2744,2751,2758,2772,2779,2786,2793,2807,2814,2821,2828,2842,2849,2856,2863,2877,2884,2891,2898,2912,2919,2926,2933,2947,2954,2961,2968,2982,2989,2996,3003,3017,3024,3031,3038,3052,3059,3066,3073,3087,3094,3101,3108,3122,3129,3136,3143,3157,3164,3171,3178,3192,3199\n"
     ]
    }
   ],
   "source": [
    "def divisible_by_7_not_5():\n",
    "    return [str(i) for i in range(2000, 3201) if i % 7 == 0 and i % 5 != 0]\n",
    "\n",
    "print(','.join(divisible_by_7_not_5()))\n"
   ]
  },
  {
   "cell_type": "code",
   "execution_count": 2,
   "id": "d6be968d-7d6a-4fd9-9749-41b5ee1223fa",
   "metadata": {},
   "outputs": [
    {
     "name": "stdin",
     "output_type": "stream",
     "text": [
      "Enter values of C (comma-separated):  20\n"
     ]
    },
    {
     "name": "stdout",
     "output_type": "stream",
     "text": [
      "12\n"
     ]
    }
   ],
   "source": [
    "import math\n",
    "\n",
    "def calculate_formula():\n",
    "    A = 50\n",
    "    B = 30\n",
    "    C_values = input(\"Enter values of C (comma-separated): \")\n",
    "    C_values = [int(x) for x in C_values.split(\",\")]\n",
    "    \n",
    "    results = []\n",
    "    for C in C_values:\n",
    "        P = math.sqrt((2 * A * B) / C)\n",
    "        results.append(int(P))\n",
    "    \n",
    "    return \",\".join(map(str, results))\n",
    "\n",
    "print(calculate_formula())\n",
    "\n"
   ]
  },
  {
   "cell_type": "code",
   "execution_count": 6,
   "id": "16891e97-b1ec-4ade-9937-236f5bf33ea5",
   "metadata": {},
   "outputs": [
    {
     "name": "stdin",
     "output_type": "stream",
     "text": [
      "Enter words (comma-separated):  without,hello,bag,world\n"
     ]
    },
    {
     "name": "stdout",
     "output_type": "stream",
     "text": [
      "bag,hello,without,world\n"
     ]
    }
   ],
   "source": [
    "def sort_words():\n",
    "    words = input(\"Enter words (comma-separated): \")\n",
    "    words = [x.strip().lower() for x in words.split(\",\")]\n",
    "    words.sort()\n",
    "    print(\",\".join(words))\n",
    "\n",
    "sort_words()\n",
    "\n",
    "\n"
   ]
  },
  {
   "cell_type": "code",
   "execution_count": 4,
   "id": "c9357a0f-4bd0-4ec9-8fcf-2014640bf5e6",
   "metadata": {},
   "outputs": [
    {
     "name": "stdin",
     "output_type": "stream",
     "text": [
      " Hello world Practice makes perfect\n",
      " \n"
     ]
    },
    {
     "name": "stdout",
     "output_type": "stream",
     "text": [
      "HELLO WORLD PRACTICE MAKES PERFECT\n"
     ]
    }
   ],
   "source": [
    "def capitalize_lines():\n",
    "    lines = []\n",
    "    while True:\n",
    "        line = input()\n",
    "        if not line:\n",
    "            break\n",
    "        lines.append(line.upper())\n",
    "    \n",
    "    for line in lines:\n",
    "        print(line)\n",
    "\n",
    "capitalize_lines()\n"
   ]
  },
  {
   "cell_type": "code",
   "execution_count": 7,
   "id": "8cf223ec-8e46-47d4-938a-5ec49eb24f8d",
   "metadata": {},
   "outputs": [
    {
     "name": "stdin",
     "output_type": "stream",
     "text": [
      " Hello world Practice makes perfect\n",
      " \n"
     ]
    },
    {
     "name": "stdout",
     "output_type": "stream",
     "text": [
      "HELLO WORLD PRACTICE MAKES PERFECT\n"
     ]
    }
   ],
   "source": [
    "def capitalize_lines():\n",
    "    lines = []\n",
    "    while True:\n",
    "        line = input()\n",
    "        if not line:\n",
    "            break\n",
    "        lines.append(line.upper())\n",
    "    \n",
    "    for line in lines:\n",
    "        print(line)\n",
    "\n",
    "capitalize_lines()\n"
   ]
  },
  {
   "cell_type": "code",
   "execution_count": 8,
   "id": "8aaccbc9-4bda-4f9f-b733-645e197a211d",
   "metadata": {},
   "outputs": [
    {
     "name": "stdin",
     "output_type": "stream",
     "text": [
      "Enter a sentence:  Hello world Practice makes perfect\n"
     ]
    },
    {
     "name": "stdout",
     "output_type": "stream",
     "text": [
      "a appeared 2 times\n",
      "e appeared 5 times\n",
      "i appeared 1 times\n",
      "o appeared 2 times\n",
      "u appeared 0 times\n",
      "HELLO WORLD PRACTICE MAKES PERFECT\n"
     ]
    }
   ],
   "source": [
    "def count_vowels():\n",
    "    sentence = input(\"Enter a sentence: \")\n",
    "    sentence = sentence.lower()\n",
    "    vowels = 'aeiou'\n",
    "    vowel_counts = {vowel: sentence.count(vowel) for vowel in vowels}\n",
    "    \n",
    "    for vowel, count in vowel_counts.items():\n",
    "        print(f\"{vowel} appeared {count} times\")\n",
    "    \n",
    "    print(sentence.upper())\n",
    "\n",
    "count_vowels()\n"
   ]
  },
  {
   "cell_type": "code",
   "execution_count": 9,
   "id": "89f8bf16-067d-45c6-954d-c44764fa26e8",
   "metadata": {},
   "outputs": [
    {
     "name": "stdout",
     "output_type": "stream",
     "text": [
      "[2000, 2002, 2004, 2006, 2008, 2020, 2022, 2024, 2026, 2028, 2040, 2042, 2044, 2046, 2048, 2060, 2062, 2064, 2066, 2068, 2080, 2082, 2084, 2086, 2088, 2200, 2202, 2204, 2206, 2208, 2220, 2222, 2224, 2226, 2228, 2240, 2242, 2244, 2246, 2248, 2260, 2262, 2264, 2266, 2268, 2280, 2282, 2284, 2286, 2288, 2400, 2402, 2404, 2406, 2408, 2420, 2422, 2424, 2426, 2428, 2440, 2442, 2444, 2446, 2448, 2460, 2462, 2464, 2466, 2468, 2480, 2482, 2484, 2486, 2488, 2600, 2602, 2604, 2606, 2608, 2620, 2622, 2624, 2626, 2628, 2640, 2642, 2644, 2646, 2648, 2660, 2662, 2664, 2666, 2668, 2680, 2682, 2684, 2686, 2688, 2800, 2802, 2804, 2806, 2808, 2820, 2822, 2824, 2826, 2828, 2840, 2842, 2844, 2846, 2848, 2860, 2862, 2864, 2866, 2868, 2880, 2882, 2884, 2886, 2888]\n"
     ]
    }
   ],
   "source": [
    "def even_digits():\n",
    "    even_numbers = []\n",
    "    for num in range(1000, 3001):\n",
    "        if all(int(digit) % 2 == 0 for digit in str(num)):\n",
    "            even_numbers.append(num)\n",
    "    return even_numbers\n",
    "\n",
    "print(even_digits())\n"
   ]
  },
  {
   "cell_type": "code",
   "execution_count": 11,
   "id": "cc053e17-cb0a-4b73-aece-53885a9262e1",
   "metadata": {},
   "outputs": [
    {
     "name": "stdin",
     "output_type": "stream",
     "text": [
      "Enter binary numbers (comma-separated):  0100,0011,1010,1001\n"
     ]
    },
    {
     "name": "stdout",
     "output_type": "stream",
     "text": [
      "1010\n"
     ]
    }
   ],
   "source": [
    "def binary_divisible_by_5():\n",
    "    binary_numbers = input(\"Enter binary numbers (comma-separated): \")\n",
    "    binary_numbers = binary_numbers.split(\",\")\n",
    "    divisible_numbers = [num for num in binary_numbers if int(num, 2) % 5 == 0]\n",
    "    print(\",\".join(divisible_numbers))\n",
    "\n",
    "binary_divisible_by_5()\n",
    "\n"
   ]
  },
  {
   "cell_type": "code",
   "execution_count": 1,
   "id": "a3a45908-dafc-474a-9faf-92a78e89f6a4",
   "metadata": {},
   "outputs": [
    {
     "name": "stdin",
     "output_type": "stream",
     "text": [
      "Enter a sentence:  hello world! 123\n"
     ]
    },
    {
     "name": "stdout",
     "output_type": "stream",
     "text": [
      "LETTERS 10 DIGITS 3\n"
     ]
    }
   ],
   "source": [
    "def count_letters_digits():\n",
    "    sentence = input(\"Enter a sentence: \")\n",
    "    letters = sum(c.isalpha() for c in sentence)\n",
    "    digits = sum(c.isdigit() for c in sentence)\n",
    "    print(f\"LETTERS {letters} DIGITS {digits}\")\n",
    "\n",
    "count_letters_digits()\n"
   ]
  },
  {
   "cell_type": "code",
   "execution_count": null,
   "id": "7e8d0938-2db2-46ec-9a7f-66130b6cce6f",
   "metadata": {},
   "outputs": [],
   "source": []
  }
 ],
 "metadata": {
  "kernelspec": {
   "display_name": "Python 3 (ipykernel)",
   "language": "python",
   "name": "python3"
  },
  "language_info": {
   "codemirror_mode": {
    "name": "ipython",
    "version": 3
   },
   "file_extension": ".py",
   "mimetype": "text/x-python",
   "name": "python",
   "nbconvert_exporter": "python",
   "pygments_lexer": "ipython3",
   "version": "3.12.7"
  }
 },
 "nbformat": 4,
 "nbformat_minor": 5
}
